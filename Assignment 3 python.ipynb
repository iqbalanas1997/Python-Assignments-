{
 "cells": [
  {
   "cell_type": "code",
   "execution_count": 57,
   "metadata": {},
   "outputs": [
    {
     "name": "stdout",
     "output_type": "stream",
     "text": [
      "Enter 1st number  3\n",
      "Enter 2nd number  4\n",
      "Enter operator  /\n",
      "0.75\n"
     ]
    }
   ],
   "source": [
    "# 1)Make a calculator using Python with addition , subtraction , multiplication ,division and power.                                                                                                \n",
    "a = int(input(\"Enter 1st number  \"))\n",
    "b = int( input(\"Enter 2nd number  \"))\n",
    "operator = input(\"Enter operator  \")\n",
    "\n",
    "if operator == \"*\":\n",
    "    print(a*b)\n",
    "    \n",
    "elif operator == '+':\n",
    "    pritn(a+b)\n",
    "\n",
    "elif operator == '-':\n",
    "    print(a-b)\n",
    "    \n",
    "elif operator == '/':\n",
    "    print(a/b)\n",
    "    \n",
    "elif operator == 'p':\n",
    "    print(a**b)"
   ]
  },
  {
   "cell_type": "code",
   "execution_count": 48,
   "metadata": {},
   "outputs": [
    {
     "name": "stdout",
     "output_type": "stream",
     "text": [
      "{'first_name': 'Iqbal', 'last_name': 'Anas'}\n",
      "{'first_name': 'Iqbal', 'last_name': 'Anas', 'course': 'Python', 'Institute': 'Saylani'}\n"
     ]
    }
   ],
   "source": [
    "# 3)  Write a Python script to add a key to a dictionary\n",
    "dict={\n",
    "    \"first_name\":\"Iqbal\",\n",
    "    \"last_name\":\"Anas\",\n",
    "}\n",
    "print(dict)\n",
    "dict.update({\"course\" : \"Python\"})\n",
    "dict.update({\"Institute\" : \"Saylani\"})\n",
    "print(dict)"
   ]
  },
  {
   "cell_type": "code",
   "execution_count": 39,
   "metadata": {},
   "outputs": [
    {
     "name": "stdout",
     "output_type": "stream",
     "text": [
      "290\n"
     ]
    }
   ],
   "source": [
    "# 4)  Write a Python program to sum all the numeric items in a dictionary\n",
    "list={\n",
    "    \"a\":10,\n",
    "    \"b\":200,\n",
    "    \"c\":60,\n",
    "    \"df\":20\n",
    "}\n",
    "print(sum(list.values()))"
   ]
  },
  {
   "cell_type": "code",
   "execution_count": 56,
   "metadata": {},
   "outputs": [
    {
     "name": "stdout",
     "output_type": "stream",
     "text": [
      "duplicate value is found  ccc\n",
      "duplicate value is found  8\n",
      "['hhh', 'ccc', 'abc', 'aaa', 8]\n"
     ]
    }
   ],
   "source": [
    "# 5)   Write a program to identify duplicate values from list\n",
    "lst1 = [\"hhh\",\"ccc\", \"abc\",\"aaa\",\"ccc\",8,8]\n",
    "def dup(lst):\n",
    "    lst1dup = []\n",
    "    for val in lst:\n",
    "        if val not in lst1dup:\n",
    "            lst1dup.append(val)\n",
    "        elif val in lst1dup:\n",
    "            print(\"duplicate value is found \",val)\n",
    "    return lst1dup\n",
    "\n",
    "print(dup(lst1))"
   ]
  },
  {
   "cell_type": "code",
   "execution_count": 49,
   "metadata": {},
   "outputs": [
    {
     "name": "stdout",
     "output_type": "stream",
     "text": [
      "Numeric value is found = 99 At Index=0\n",
      "Numeric value is found = 34 At Index=1\n",
      "Numeric value is found = 13 At Index=5\n"
     ]
    }
   ],
   "source": [
    "# 2) Write a program to check if there is any numeric value in list using for loop\n",
    "arr = [99,34,\"qwe\",\"power\",\"lol\",13]\n",
    "for aa in arr:\n",
    "    if type(aa) == int or type(aa) == float:\n",
    "        print(f\"Numeric value is found = {aa} At Index={arr.index(aa)}\")"
   ]
  },
  {
   "cell_type": "code",
   "execution_count": 55,
   "metadata": {},
   "outputs": [
    {
     "name": "stdout",
     "output_type": "stream",
     "text": [
      "Key is present in the dictionary\n",
      "Key is not present in the dictionary\n"
     ]
    }
   ],
   "source": [
    "# 6)   Write a Python script to check if a given key already exists in a dictionary\n",
    "dic = {\n",
    "    1: \"toyota\",\n",
    "    2: \"honda\",\n",
    "    3: \"marcedes\",\n",
    "    4: \"suzuki \",\n",
    "    5: \"daihatsu\"\n",
    "}\n",
    "def is_key_present(x):\n",
    "    if x in dic:\n",
    "        print('Key is present in the dictionary')\n",
    "    else: \n",
    "        print('Key is not present in the dictionary')\n",
    "            \n",
    "is_key_present(5)          \n",
    "is_key_present(7)"
   ]
  },
  {
   "cell_type": "code",
   "execution_count": null,
   "metadata": {},
   "outputs": [],
   "source": []
  }
 ],
 "metadata": {
  "kernelspec": {
   "display_name": "Python 3",
   "language": "python",
   "name": "python3"
  },
  "language_info": {
   "codemirror_mode": {
    "name": "ipython",
    "version": 3
   },
   "file_extension": ".py",
   "mimetype": "text/x-python",
   "name": "python",
   "nbconvert_exporter": "python",
   "pygments_lexer": "ipython3",
   "version": "3.7.4"
  }
 },
 "nbformat": 4,
 "nbformat_minor": 2
}
