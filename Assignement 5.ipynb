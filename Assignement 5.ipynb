{
 "cells": [
  {
   "cell_type": "code",
   "execution_count": 1,
   "metadata": {},
   "outputs": [
    {
     "name": "stdout",
     "output_type": "stream",
     "text": [
      "factorial of 1 is : 1 \n",
      "factorial of 2 is : 2 \n",
      "factorial of 3 is : 6 \n",
      "factorial of 4 is : 24 \n",
      "factorial of 5 is : 120 \n"
     ]
    }
   ],
   "source": [
    "#Question:1\n",
    "#Write a Python function to calculate the factorial of a number (a non-negative\n",
    "#integer). The function accepts the number as an argument.\n",
    "\n",
    "def fact(num):\n",
    "    if num<0:\n",
    "        return None\n",
    "    if num<2:\n",
    "        return 1\n",
    "    f=1\n",
    "    for i in range(2,num+1):\n",
    "        f *= i\n",
    "    return f\n",
    "for n in range(1,6):\n",
    "    print(\"factorial of {} is : {} \".format(n,fact(n)))"
   ]
  },
  {
   "cell_type": "code",
   "execution_count": null,
   "metadata": {},
   "outputs": [],
   "source": [
    "#Question:2\n",
    "#Write a Python function that accepts a string and calculate the number of upper\n",
    "#case letters and lower case letters.\n",
    "Lcount=0\n",
    "Ucount=0\n",
    "UserInput=input(\"Enter String (With Lower and upper case) : \")\n",
    "for i in UserInput:\n",
    "    if (i.islower()) == True:\n",
    "        Lcount += 1\n",
    "    elif (i.isupper()) == True:\n",
    "        Ucount += 1\n",
    "    \n",
    "print(\"{} has {} Upper case and {} Lower case\".format(UserInput,Ucount,Lcount))"
   ]
  },
  {
   "cell_type": "code",
   "execution_count": null,
   "metadata": {},
   "outputs": [],
   "source": []
  },
  {
   "cell_type": "code",
   "execution_count": null,
   "metadata": {},
   "outputs": [],
   "source": [
    "#Question:3\n",
    "#Write a Python function to print the even numbers from a given list.\n",
    "\n",
    "numbers=[1,2,3,4,5,6,7,8,9,5,3,23,6,7,78,]\n",
    "for i in numbers:\n",
    "    if i %2 == 0:\n",
    "        print(\"{} is Even number\".format(i))\n",
    "    else:\n",
    "        print(\"{} is Odd number\".format(i))"
   ]
  },
  {
   "cell_type": "code",
   "execution_count": null,
   "metadata": {},
   "outputs": [],
   "source": [
    "#Question:4\n",
    "#Write a Python function that checks whether a passed string is palindrome or not.\n",
    "#Note: A palindrome is a word, phrase, or sequence that reads the same\n",
    "#backward as forward, e.g., madam\n",
    "\n",
    "def plaindrome(str):\n",
    "    leftpos=0\n",
    "    rightpos=len(str)-1\n",
    "    if not str[leftpos] == str[rightpos]:\n",
    "        print(\"NO! The word {} is not the plaindrome\".format(str))\n",
    "    else:\n",
    "        print(\"YES! The word {} is the plaindrome\".format(str))\n",
    "    \n",
    "\n",
    "string=input(\"Ennter any string : \")\n",
    "plaindrome(string)"
   ]
  },
  {
   "cell_type": "code",
   "execution_count": 10,
   "metadata": {},
   "outputs": [
    {
     "name": "stdout",
     "output_type": "stream",
     "text": [
      "13 is Prime Number\n"
     ]
    }
   ],
   "source": [
    "#Write a Python function that takes a number as a parameter and check the number is prime or not.\n",
    "\n",
    "def prime(num):\n",
    "    if num == 1:\n",
    "        return False\n",
    "    elif num == 2:\n",
    "        return True\n",
    "    else:\n",
    "        for i in range(2,num):\n",
    "            if num % i==0:\n",
    "                return False\n",
    "            return True\n",
    "n=13\n",
    "a=prime(n)\n",
    "if a == True:\n",
    "    print(\"{} is Prime Number\".format(n))\n",
    "else:\n",
    "    print(\"{} is NOT Prime Number\".format(n))"
   ]
  },
  {
   "cell_type": "markdown",
   "metadata": {},
   "source": []
  },
  {
   "cell_type": "code",
   "execution_count": 7,
   "metadata": {},
   "outputs": [
    {
     "name": "stdout",
     "output_type": "stream",
     "text": [
      "---------------------------\n",
      "Welcome To The Iqbal Super Mart (ISM) \n",
      "--------------------------\n",
      "press 1 to see the available items in ISM : 1\n",
      "Sugar 100rs/pckt\n",
      "Rice 100rs/pckt\n",
      "Soap 50rs/pckt\n",
      "Shampoo 150rs/pckt\n",
      "Milk 100rs/pckt\n",
      "Tofees 50rs/pckt\n",
      "Perfume 200rs/pckt\n",
      "Cold Drink 100rs/pckt\n",
      "Select 1 , 2 , 3 and so on to buy the item1\n",
      "how much packets you want to buy of Sugar 100rs/pckt3\n",
      "price of sugar of 3 packets : 300\n",
      "sugar\n"
     ]
    }
   ],
   "source": [
    "#Suppose a customer is shopping in a market and you need to print all the items which user bought from market. Write a function\n",
    "#which accepts the multiple arguments of user shopping list and print all the items which user bought from market.\n",
    "        \n",
    "\n",
    "  \n",
    "list=[\n",
    "    \"Sugar 100rs/pckt\",\n",
    "    \"Rice 100rs/pckt\",\n",
    "    \"Soap 50rs/pckt\",\n",
    "    \"Shampoo 150rs/pckt\",\n",
    "    \"Milk 100rs/pckt\",\n",
    "    \"Tofees 50rs/pckt\",\n",
    "    \"Perfume 200rs/pckt\",\n",
    "    \"Cold Drink 100rs/pckt\"\n",
    "]\n",
    "buy=[]\n",
    "def viewitem(buy):\n",
    "    for val in buy:\n",
    "        print(val)\n",
    "\n",
    "def shopping(list):\n",
    "    \n",
    "    print(\"---------------------------\\nWelcome To The Iqbal Super Mart (ISM) \\n--------------------------\")\n",
    "    \n",
    "    a=input(\"press 1 to see the available items in ISM : \")\n",
    "    if a==\"1\":\n",
    "        for val in list:\n",
    "            print(val)\n",
    "    else :\n",
    "        print(\"Sorry ! Wrong input\")\n",
    "    b=input(\"Select 1 , 2 , 3 and so on to buy the item\")\n",
    "    if b==\"1\":\n",
    "        for val in range(0,1):\n",
    "             p=int(input(\"how much packets you want to buy of {}\".format(list[val])))\n",
    "        print(\"price of sugar of {} packets : {}\".format(p,p*100))\n",
    "        itemnum=len(buy)+1\n",
    "        \n",
    "\n",
    "shopping(list)"
   ]
  },
  {
   "cell_type": "code",
   "execution_count": 2,
   "metadata": {},
   "outputs": [
    {
     "name": "stdout",
     "output_type": "stream",
     "text": [
      "Enter your budget : 23\n"
     ]
    },
    {
     "ename": "TypeError",
     "evalue": "descriptor 'append' requires a 'list' object but received a 'str'",
     "output_type": "error",
     "traceback": [
      "\u001b[1;31m---------------------------------------------------------------------------\u001b[0m",
      "\u001b[1;31mTypeError\u001b[0m                                 Traceback (most recent call last)",
      "\u001b[1;32m<ipython-input-2-bf71fb5a6c17>\u001b[0m in \u001b[0;36m<module>\u001b[1;34m\u001b[0m\n\u001b[0;32m     22\u001b[0m } \n\u001b[0;32m     23\u001b[0m \u001b[1;31m# converting dictionary to list for further updation\u001b[0m\u001b[1;33m\u001b[0m\u001b[1;33m\u001b[0m\u001b[1;33m\u001b[0m\u001b[0m\n\u001b[1;32m---> 24\u001b[1;33m \u001b[0mb\u001b[0m \u001b[1;33m=\u001b[0m \u001b[0mlist\u001b[0m\u001b[1;33m.\u001b[0m\u001b[0mappend\u001b[0m\u001b[1;33m(\u001b[0m\u001b[1;34m\"abc\"\u001b[0m\u001b[1;33m)\u001b[0m\u001b[1;33m\u001b[0m\u001b[1;33m\u001b[0m\u001b[0m\n\u001b[0m\u001b[0;32m     25\u001b[0m \u001b[1;33m\u001b[0m\u001b[0m\n\u001b[0;32m     26\u001b[0m \u001b[1;31m# variable na value of \"name\" from dictionary 'a'\u001b[0m\u001b[1;33m\u001b[0m\u001b[1;33m\u001b[0m\u001b[1;33m\u001b[0m\u001b[0m\n",
      "\u001b[1;31mTypeError\u001b[0m: descriptor 'append' requires a 'list' object but received a 'str'"
     ]
    }
   ],
   "source": []
  },
  {
   "cell_type": "markdown",
   "metadata": {},
   "source": []
  },
  {
   "cell_type": "code",
   "execution_count": null,
   "metadata": {},
   "outputs": [],
   "source": []
  }
 ],
 "metadata": {
  "kernelspec": {
   "display_name": "Python 3",
   "language": "python",
   "name": "python3"
  },
  "language_info": {
   "codemirror_mode": {
    "name": "ipython",
    "version": 3
   },
   "file_extension": ".py",
   "mimetype": "text/x-python",
   "name": "python",
   "nbconvert_exporter": "python",
   "pygments_lexer": "ipython3",
   "version": "3.7.4"
  }
 },
 "nbformat": 4,
 "nbformat_minor": 2
}
