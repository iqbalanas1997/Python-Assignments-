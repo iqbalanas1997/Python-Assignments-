{
 "cells": [
  {
   "cell_type": "code",
   "execution_count": 2,
   "metadata": {},
   "outputs": [
    {
     "name": "stdout",
     "output_type": "stream",
     "text": [
      "Enter Num 1 : 5\n",
      "Enter Num 2 : 4.6\n",
      "5.0 + 4.6 = 9.6\n"
     ]
    }
   ],
   "source": [
    "num1=float(input(\"Enter Num 1 : \"))\n",
    "num2=float(input(\"Enter Num 2 : \"))\n",
    "print (\"{0} + {1} = {2}\".format(num1,num2,num1+num2))"
   ]
  },
  {
   "cell_type": "code",
   "execution_count": null,
   "metadata": {},
   "outputs": [],
   "source": []
  }
 ],
 "metadata": {
  "kernelspec": {
   "display_name": "Python 3",
   "language": "python",
   "name": "python3"
  },
  "language_info": {
   "codemirror_mode": {
    "name": "ipython",
    "version": 3
   },
   "file_extension": ".py",
   "mimetype": "text/x-python",
   "name": "python",
   "nbconvert_exporter": "python",
   "pygments_lexer": "ipython3",
   "version": "3.7.4"
  }
 },
 "nbformat": 4,
 "nbformat_minor": 2
}
