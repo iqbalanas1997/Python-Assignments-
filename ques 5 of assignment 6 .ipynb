{
 "cells": [
  {
   "cell_type": "code",
   "execution_count": 19,
   "metadata": {},
   "outputs": [
    {
     "name": "stdout",
     "output_type": "stream",
     "text": [
      "----------------------- \n",
      "Car's Basic Details\n",
      " -----------------------\n",
      "Brand :  Toyota\n",
      "Car name :  Corolla Saloon xli\n",
      "Model :  2008-04-20\n",
      "Color :  black\n",
      "Power :  1800cc\n",
      "CPLC :  CPLC clear\n",
      "Registered from :  Karachi\n",
      "----------------------- \n",
      "Car's Owner's Details\n",
      " -----------------------\n",
      "Owner Name :  Iqbal Anas\n",
      "Owner's number :  0323220360\n",
      "----------------------- \n",
      "Car already used\n",
      " -----------------------\n",
      "Corolla Saloon xli Car! is 11 year 8 month and 3 days old\n"
     ]
    }
   ],
   "source": [
    "#Question 5:\n",
    "#Write a code in python in which create a class named it Car which have 5 \n",
    "#attributes such like (model, color and name etc.) and 3 methods. And create\n",
    "#5 object instance from that class.\n",
    "import datetime\n",
    "class Car():\n",
    "    def __init__(self,brand,carname,model,color,power,cplc,ownername,contact):\n",
    "        self.brand=brand\n",
    "        self.carname=carname\n",
    "        self.model=model\n",
    "        self.color=color\n",
    "        self.power=power\n",
    "        self.cplc=cplc\n",
    "        self.ownername=ownername\n",
    "        self.contact=contact\n",
    "        \n",
    "    def carbasicinfo(self,registered):\n",
    "        print(\"----------------------- \\nCar's Basic Details\\n -----------------------\")\n",
    "        print(\"Brand : \",self.brand)\n",
    "        print(\"Car name : \",self.carname)\n",
    "        print(\"Model : \",self.model)\n",
    "        print(\"Color : \",self.color)\n",
    "        print(\"Power : \",self.power)\n",
    "        print(\"CPLC : \",self.cplc)\n",
    "        print(\"Registered from : \",registered)\n",
    "        \n",
    "    def ownerinfo(self):\n",
    "        print(\"----------------------- \\nCar's Owner's Details\\n -----------------------\")\n",
    "        print(\"Owner Name : \",self.ownername)\n",
    "        print(\"Owner's number : \",self.contact)\n",
    "        \n",
    "        #to identify that how much car is used\n",
    "    def carmodel(self):\n",
    "        print(\"----------------------- \\nCar already used\\n -----------------------\")\n",
    "        today=datetime.date.today()\n",
    "        \n",
    "        day=today.day - self.model.day\n",
    "        year=today.year - self.model.year\n",
    "        month=today.month - self.model.month\n",
    "        print(\"{} Car! is {} year {} month and {} days old\".format(self.carname,year,month,day))\n",
    "        \n",
    "\n",
    "        \n",
    "car=Car(\n",
    "    \"Toyota\",\n",
    "    \"Corolla Saloon xli\",\n",
    "    datetime.date(2008,4,20),\n",
    "    \"black\",\n",
    "    \"1800cc\",\n",
    "    \"CPLC clear\",\n",
    "    \"Iqbal Anas\",\n",
    "    \"0323220360\",\n",
    ")\n",
    "\n",
    "car.carbasicinfo(\"Karachi\")\n",
    "car.ownerinfo()\n",
    "car.carmodel()"
   ]
  },
  {
   "cell_type": "code",
   "execution_count": null,
   "metadata": {},
   "outputs": [],
   "source": []
  }
 ],
 "metadata": {
  "kernelspec": {
   "display_name": "Python 3",
   "language": "python",
   "name": "python3"
  },
  "language_info": {
   "codemirror_mode": {
    "name": "ipython",
    "version": 3
   },
   "file_extension": ".py",
   "mimetype": "text/x-python",
   "name": "python",
   "nbconvert_exporter": "python",
   "pygments_lexer": "ipython3",
   "version": "3.7.4"
  }
 },
 "nbformat": 4,
 "nbformat_minor": 2
}
